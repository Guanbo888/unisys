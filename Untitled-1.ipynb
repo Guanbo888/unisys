{
 "cells": [
  {
   "cell_type": "code",
   "execution_count": null,
   "id": "0932d666",
   "metadata": {},
   "outputs": [],
   "source": [
    "import random"
   ]
  },
  {
   "cell_type": "code",
   "execution_count": 41,
   "id": "3c2f6b3e",
   "metadata": {},
   "outputs": [],
   "source": [
    "exsit_id = dict()\n"
   ]
  },
  {
   "cell_type": "code",
   "execution_count": 56,
   "id": "e00ef8d4",
   "metadata": {},
   "outputs": [
    {
     "name": "stdout",
     "output_type": "stream",
     "text": [
      "101 {'000000007': True, '000000002': True, '000000001': True, '000000003': True, '000000004': True, '000000009': True, '000000008': True, '000000006': True, '000000010': True, '000000005': True}\n"
     ]
    }
   ],
   "source": [
    "\n",
    "stu_id = random.randint(1,10)\n",
    "c = 0\n",
    "max_step = 100\n",
    "\n",
    "while '{0:09d}'.format(stu_id) in exsit_id:\n",
    "    \n",
    "    stu_id = random.randint(1,10)\n",
    "    c += 1\n",
    "    if c > max_step:\n",
    "        break\n",
    "exsit_id['{0:09d}'.format(stu_id)] = True\n",
    "print(c, exsit_id)"
   ]
  },
  {
   "cell_type": "code",
   "execution_count": 69,
   "id": "dcb5fe25",
   "metadata": {},
   "outputs": [],
   "source": [
    "exsit_subject_id = dict()"
   ]
  },
  {
   "cell_type": "code",
   "execution_count": 83,
   "id": "15306348",
   "metadata": {},
   "outputs": [
    {
     "name": "stdout",
     "output_type": "stream",
     "text": [
      "0 {'000000855': True, '000000256': True, '000000229': True, '000000727': True, '000000077': True, '000000162': True, '000000130': True, '000000713': True, '000000134': True, '000000540': True, '000000419': True, '000000892': True, '000000636': True}\n"
     ]
    }
   ],
   "source": [
    "subject_id = random.randint(1,999)\n",
    "c = 0\n",
    "max_step = 100\n",
    "\n",
    "while '{0:09d}'.format(subject_id) in exsit_subject_id:\n",
    "    \n",
    "    subject_id = random.randint(1,999)\n",
    "    c += 1\n",
    "    if c > max_step:\n",
    "        break\n",
    "exsit_subject_id['{0:09d}'.format(subject_id)] = True\n",
    "print(c, exsit_subject_id)"
   ]
  }
 ],
 "metadata": {
  "kernelspec": {
   "display_name": "py311",
   "language": "python",
   "name": "python3"
  },
  "language_info": {
   "codemirror_mode": {
    "name": "ipython",
    "version": 3
   },
   "file_extension": ".py",
   "mimetype": "text/x-python",
   "name": "python",
   "nbconvert_exporter": "python",
   "pygments_lexer": "ipython3",
   "version": "3.11.12"
  }
 },
 "nbformat": 4,
 "nbformat_minor": 5
}
